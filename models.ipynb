{
 "cells": [
  {
   "cell_type": "markdown",
   "metadata": {},
   "source": [
    "# **Statistical learning final project**: modelling"
   ]
  },
  {
   "cell_type": "markdown",
   "metadata": {},
   "source": [
    "### Daniel A.\n",
    "### UID: 100444499"
   ]
  },
  {
   "cell_type": "markdown",
   "metadata": {},
   "source": [
    "### Importing libraries"
   ]
  },
  {
   "cell_type": "code",
   "execution_count": 15,
   "metadata": {},
   "outputs": [],
   "source": [
    "library(dplyr)\n",
    "library(MASS)\n",
    "library(e1071) \n",
    "library(VGAM)"
   ]
  },
  {
   "cell_type": "markdown",
   "metadata": {},
   "source": [
    "### Importing the data"
   ]
  },
  {
   "cell_type": "code",
   "execution_count": 16,
   "metadata": {},
   "outputs": [],
   "source": [
    "df = read.csv('./data/data_2.csv')"
   ]
  },
  {
   "cell_type": "markdown",
   "metadata": {},
   "source": [
    "### Preparing training and target sets"
   ]
  },
  {
   "cell_type": "code",
   "execution_count": 17,
   "metadata": {},
   "outputs": [],
   "source": [
    "# vars\n",
    "vars = names(df)\n",
    "# training vars\n",
    "train = vars[6:(length(vars)-2)]\n",
    "train = df %>% dplyr::select(train)\n",
    "# target var\n",
    "target = vars[length(vars)]\n",
    "target = df %>% dplyr::select(target)\n",
    "\n",
    "# converting our target variable into a numeric variable\n",
    "for (i in 1:length(target[,1])) {\n",
    "    if (target[i,] == 'very high') {\n",
    "        target[i,] = 1\n",
    "    } else if (target[i,] == 'high') {\n",
    "        target[i,] = 2\n",
    "    } else if (target[i,] == 'medium') {\n",
    "        target[i,] = 3\n",
    "    } else {\n",
    "        target[i,] = 4\n",
    "    }\n",
    "}"
   ]
  },
  {
   "cell_type": "code",
   "execution_count": 18,
   "metadata": {},
   "outputs": [],
   "source": [
    "# leaving a dataset with everything included except IDs\n",
    "data <- cbind(train,target)"
   ]
  },
  {
   "cell_type": "markdown",
   "metadata": {},
   "source": [
    "## Model 1: LDA, QDA"
   ]
  },
  {
   "cell_type": "code",
   "execution_count": 24,
   "metadata": {},
   "outputs": [],
   "source": [
    "qda_m <- qda(hdi_cat ~ ., data)\n",
    "lda_m <- lda(hdi_cat ~ ., data)"
   ]
  },
  {
   "cell_type": "code",
   "execution_count": 26,
   "metadata": {},
   "outputs": [
    {
     "data": {
      "text/plain": "Call:\nqda(hdi_cat ~ ., data = data)\n\nPrior probabilities of groups:\n        1         2         3         4 \n0.3478261 0.2826087 0.1956522 0.1739130 \n\nGroup means:\n  foreign_inv_inflows exports_perc_gdp inflation_perc education_years\n1          9433384895         48.53750       5.774356        9.953125\n2          2405594913         36.80962       4.716484        9.192308\n3           290431208         37.82297       8.171954        7.694444\n4           179558877         28.09167       7.873844        7.593750\n  education_perc_gdp gds_perc_gdp gross_savings_perc_gdp int_tourism_arrivals\n1           4.769779    25.043559               23.66136            8266771.9\n2           4.587527    14.946096               23.95996            2510707.7\n3           4.321739    12.455414               28.43980             632702.8\n4           3.182154     6.331343               13.21311             245681.2\n  int_tourism_receipts perc_internet_users access_to_electricity\n1           7185984375          30.3038559              99.53264\n2           1638948077           5.7483551              89.83999\n3            343611111           1.8968311              51.44448\n4             85815625           0.5515128              19.31156\n  agricultural_land birth_rate       gne mobile_subscriptions infant_mort_rate\n1          35.96273   13.16603  97.78888            56.210187         9.020312\n2          39.20792   20.90337 106.92488            14.695890        24.936538\n3          38.25026   32.06983 109.45709             3.567188        54.580556\n4          49.48800   41.38184 113.04365             2.451948        84.815625\n  sex_ratio greenhouse_gas_em urban_pop_perc\n1  1.057328          339231.5       73.73394\n2  1.059327          253916.7       54.86265\n3  1.049944          107506.6       36.16672\n4  1.035000          104020.3       30.80816"
     },
     "metadata": {},
     "output_type": "display_data"
    }
   ],
   "source": [
    "qda_m"
   ]
  },
  {
   "cell_type": "code",
   "execution_count": null,
   "metadata": {},
   "outputs": [],
   "source": []
  }
 ],
 "metadata": {
  "kernelspec": {
   "display_name": "R",
   "name": "ir"
  },
  "language_info": {
   "codemirror_mode": "r",
   "file_extension": ".r",
   "mimetype": "text/x-r-source",
   "name": "R",
   "pygments_lexer": "r",
   "version": "4.0.3"
  },
  "orig_nbformat": 2
 },
 "nbformat": 4,
 "nbformat_minor": 2
}