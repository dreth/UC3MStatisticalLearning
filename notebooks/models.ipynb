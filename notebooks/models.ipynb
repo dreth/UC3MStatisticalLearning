{
 "cells": [
  {
   "cell_type": "markdown",
   "metadata": {},
   "source": [
    "# **Statistical learning final project**: modelling"
   ]
  },
  {
   "cell_type": "markdown",
   "metadata": {},
   "source": [
    "### Daniel A.\n",
    "### UID: 100444499"
   ]
  },
  {
   "cell_type": "markdown",
   "metadata": {},
   "source": [
    "### Importing libraries and setting options"
   ]
  },
  {
   "cell_type": "code",
   "execution_count": 37,
   "metadata": {},
   "outputs": [],
   "source": [
    "library(dplyr)\n",
    "library(MASS)\n",
    "library(e1071) \n",
    "library(VGAM)\n",
    "library(caret)"
   ]
  },
  {
   "cell_type": "code",
   "execution_count": 38,
   "metadata": {},
   "outputs": [],
   "source": [
    "# turn off warnings\n",
    "options(warn=-1)"
   ]
  },
  {
   "cell_type": "markdown",
   "metadata": {},
   "source": [
    "### Importing the data"
   ]
  },
  {
   "cell_type": "code",
   "execution_count": 39,
   "metadata": {},
   "outputs": [],
   "source": [
    "df = read.csv('./data/data_2.csv')"
   ]
  },
  {
   "cell_type": "markdown",
   "metadata": {},
   "source": [
    "### Preparing training and target sets"
   ]
  },
  {
   "cell_type": "code",
   "execution_count": 41,
   "metadata": {},
   "outputs": [],
   "source": [
    "# vars\n",
    "vars = names(df)\n",
    "# training vars\n",
    "train = vars[6:(length(vars)-2)]\n",
    "train = df %>% dplyr::select(train)\n",
    "# saving train to csv\n",
    "write.csv(train,'./data/final/train.csv')\n",
    "\n",
    "# target var\n",
    "target = vars[length(vars)]\n",
    "target = df %>% dplyr::select(target)\n",
    "\n",
    "# saving target to csv\n",
    "target$hdi_cat <- as.factor(target$hdi_cat)\n",
    "write.csv(target,'./data/final/target.csv')\n",
    "\n",
    "# target for models\n",
    "dep <- as.factor(levels(target$hdi_cat))\n"
   ]
  },
  {
   "cell_type": "code",
   "execution_count": 42,
   "metadata": {},
   "outputs": [],
   "source": [
    "# leaving a dataset with everything included except IDs\n",
    "data <- cbind(train,target)"
   ]
  },
  {
   "cell_type": "markdown",
   "metadata": {},
   "source": [
    "## Model 1: Logistic Regression (in R)"
   ]
  },
  {
   "cell_type": "markdown",
   "metadata": {},
   "source": [
    "We use 10 reps of 10-fold CV"
   ]
  },
  {
   "cell_type": "code",
   "execution_count": 47,
   "metadata": {},
   "outputs": [],
   "source": [
    "control <- trainControl(method = \"repeatedcv\",\n",
    "                        repeats = 10,\n",
    "                        number = 10 )"
   ]
  },
  {
   "cell_type": "code",
   "execution_count": 57,
   "metadata": {},
   "outputs": [],
   "source": [
    "lrfit <- train(hdi_cat ~ ., \n",
    "               method = \"glmnet\",\n",
    "               family = \"multinomial\",\n",
    "               data = data,\n",
    "               metric = \"Accuracy\",\n",
    "               preProcess = c(\"center\",\"scale\"),\n",
    "               tuneGrid = expand.grid(alpha = seq(0, 2, 0.1), \n",
    "                                      lambda = seq(0, .1, 0.01)),\n",
    "               trControl = control)"
   ]
  },
  {
   "cell_type": "code",
   "execution_count": 58,
   "metadata": {},
   "outputs": [],
   "source": [
    "lrpred <- predict(lrfit, data)"
   ]
  },
  {
   "cell_type": "code",
   "execution_count": 59,
   "metadata": {},
   "outputs": [
    {
     "data": {
      "text/plain": "Confusion Matrix and Statistics\n\n           Reference\nPrediction  high low medium very high\n  high        48   0      7         8\n  low          0  29      5         0\n  medium       1   3     24         0\n  very high    3   0      0        56\n\nOverall Statistics\n                                         \n               Accuracy : 0.8533         \n                 95% CI : (0.7937, 0.901)\n    No Information Rate : 0.3478         \n    P-Value [Acc > NIR] : < 2.2e-16      \n                                         \n                  Kappa : 0.7989         \n                                         \n Mcnemar's Test P-Value : NA             \n\nStatistics by Class:\n\n                     Class: high Class: low Class: medium Class: very high\nSensitivity               0.9231     0.9062        0.6667           0.8750\nSpecificity               0.8864     0.9671        0.9730           0.9750\nPos Pred Value            0.7619     0.8529        0.8571           0.9492\nNeg Pred Value            0.9669     0.9800        0.9231           0.9360\nPrevalence                0.2826     0.1739        0.1957           0.3478\nDetection Rate            0.2609     0.1576        0.1304           0.3043\nDetection Prevalence      0.3424     0.1848        0.1522           0.3207\nBalanced Accuracy         0.9047     0.9367        0.8198           0.9250"
     },
     "metadata": {},
     "output_type": "display_data"
    }
   ],
   "source": [
    "confusionMatrix(lrpred, data$hdi_cat)"
   ]
  },
  {
   "cell_type": "code",
   "execution_count": null,
   "metadata": {},
   "outputs": [],
   "source": []
  }
 ],
 "metadata": {
  "kernelspec": {
   "display_name": "R",
   "language": "R",
   "name": "ir"
  },
  "language_info": {
   "codemirror_mode": "r",
   "file_extension": ".r",
   "mimetype": "text/x-r-source",
   "name": "R",
   "pygments_lexer": "r",
   "version": "4.0.3"
  },
  "orig_nbformat": 2
 },
 "nbformat": 4,
 "nbformat_minor": 2
}